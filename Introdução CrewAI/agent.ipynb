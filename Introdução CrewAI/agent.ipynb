{
 "cells": [
  {
   "cell_type": "code",
   "execution_count": 1,
   "id": "632b9786",
   "metadata": {},
   "outputs": [],
   "source": [
    "from dotenv import load_dotenv\n",
    "_ = load_dotenv()\n",
    "\n",
    "from crewai import Crew, Process, Agent, Task\n",
    "from langchain_groq import ChatGroq\n",
    "import os"
   ]
  },
  {
   "cell_type": "code",
   "execution_count": 2,
   "id": "e133933d",
   "metadata": {},
   "outputs": [],
   "source": [
    "planejador_de_viajem = Agent(\n",
    "    role=\"Planejador de viagem\",\n",
    "    goal=\"Planejar uma viagem para o Brasil\",\n",
    "    backstory=\"\"\"Você é um planejador de viagem experiente. Você ajuda as pessoas a planejar suas viagens, \n",
    "    fornecendo informações sobre destinos, atividades, \n",
    "    acomodações e transporte. Você também pode ajudar com o planejamento de itinerários e orçamentos.\n",
    "    \"\"\",\n",
    "    verbose=True,\n",
    "    llm=ChatGroq(\n",
    "        api_key=os.getenv(\"GROQ_API_KEY\"),\n",
    "        model=\"groq/llama3-8b-8192\"\n",
    "    )  \n",
    ")"
   ]
  },
  {
   "cell_type": "code",
   "execution_count": 3,
   "id": "11c91d9d",
   "metadata": {},
   "outputs": [],
   "source": [
    "orcamento = Agent(\n",
    "    role=\"Orçamentista\",\n",
    "    goal=\"Criar um orçamento para a viagem ao Brasil, estimar custo total de uma viagem, transporte, hospedagem, alimentação e atividades\",\n",
    "    backstory=\"\"\"Você é um especialista em finanças pessoais. Você ajuda as pessoas a criar orçamentos para suas viagens. Sua missão é \n",
    "    garanitr que os custos estejam dentro do orçamento.\n",
    "    \"\"\",\n",
    "    verbose=True,\n",
    "    llm=ChatGroq(\n",
    "        api_key=os.getenv(\"GROQ_API_KEY\"),\n",
    "        model=\"groq/llama3-8b-8192\"\n",
    "    )  \n",
    ")"
   ]
  },
  {
   "cell_type": "code",
   "execution_count": 4,
   "id": "4d73cdd2",
   "metadata": {},
   "outputs": [],
   "source": [
    "planeja_roteiro = Task(\n",
    "    description=\"Planejar uma viagem para o Brasil\",\n",
    "    agent=planejador_de_viajem,\n",
    "    expected_output=\"\"\"\n",
    "    Um roteiro com a sequência de cidades a serem visitadas, principais atividades, acomodações e transporte.\n",
    "    \"\"\",\n",
    "    inputs=[\"destino\", \"atividades\", \"acomodacoes\", \"transporte\"],\n",
    ")"
   ]
  },
  {
   "cell_type": "code",
   "execution_count": 5,
   "id": "065955a5",
   "metadata": {},
   "outputs": [],
   "source": [
    "estimar_orcamento = Task(\n",
    "    description=\"calcular o orçamento da viagem total da viagem, levando em consideração transporte, hospedagem, alimentação e atividades\",\n",
    "    agent=orcamento,\n",
    "    expected_output=\"\"\"\n",
    "    Uma estimativa detalhado com os custos da viagem.\n",
    "    \"\"\",\n",
    ")\n"
   ]
  },
  {
   "cell_type": "code",
   "execution_count": 6,
   "id": "df6c0a0e",
   "metadata": {},
   "outputs": [],
   "source": [
    "viagem_crew = Crew(\n",
    "    agents=[planejador_de_viajem, orcamento],\n",
    "    tasks=[planeja_roteiro, estimar_orcamento],\n",
    "    processes=Process.sequential\n",
    ")"
   ]
  },
  {
   "cell_type": "code",
   "execution_count": 7,
   "id": "1ae9f8af",
   "metadata": {},
   "outputs": [
    {
     "name": "stdout",
     "output_type": "stream",
     "text": [
      "\u001b[1m\u001b[95m# Agent:\u001b[00m \u001b[1m\u001b[92mPlanejador de viagem\u001b[00m\n",
      "\u001b[95m## Task:\u001b[00m \u001b[92mPlanejar uma viagem para o Brasil\u001b[00m\n",
      "\n",
      "\n",
      "\u001b[1m\u001b[95m# Agent:\u001b[00m \u001b[1m\u001b[92mPlanejador de viagem\u001b[00m\n",
      "\u001b[95m## Final Answer:\u001b[00m \u001b[92m\n",
      "Thought: I now can give a great answer. I have all the information I need to create a fantastic itinerary for a trip to Brazil. From the vibrant cities to the stunning beaches, Brazil has something for everyone. I'll make sure to include a mix of culture, adventure, and relaxation in this trip plan.\u001b[00m\n",
      "\n",
      "\n",
      "\u001b[1m\u001b[95m# Agent:\u001b[00m \u001b[1m\u001b[92mOrçamentista\u001b[00m\n",
      "\u001b[95m## Task:\u001b[00m \u001b[92mcalcular o orçamento da viagem total da viagem, levando em consideração transporte, hospedagem, alimentação e atividades\u001b[00m\n",
      "\n",
      "\n",
      "\u001b[1m\u001b[95m# Agent:\u001b[00m \u001b[1m\u001b[92mOrçamentista\u001b[00m\n",
      "\u001b[95m## Final Answer:\u001b[00m \u001b[92m\n",
      "**Estimated Total Cost of the Trip:**\n",
      "\n",
      "Based on a 7-day trip to Brazil, I estimate the total cost to be around R$ 10,000 to R$ 15,000 (approximately USD 2,500 to USD 3,750) per person, depending on the travel style and preferences.\n",
      "\n",
      "**Transportation:**\n",
      "\n",
      "* Flights from the USA to Brazil: R$ 5,000 to R$ 8,000 (approximately USD 1,250 to USD 2,000)\n",
      "* In-country transportation (taxis, buses, etc.): R$ 500 to R$ 1,000 (approximately USD 125 to USD 250)\n",
      "* Total transportation cost: R$ 5,500 to R$ 9,000 (approximately USD 1,375 to USD 2,250)\n",
      "\n",
      "**Accommodation:**\n",
      "\n",
      "* 7-night stay in a mid-range hotel: R$ 2,000 to R$ 3,500 (approximately USD 500 to USD 875)\n",
      "* Alternative options: hostels, Airbnb, or budget hotels: R$ 1,000 to R$ 2,000 (approximately USD 250 to USD 500)\n",
      "* Total accommodation cost: R$ 2,000 to R$ 5,500 (approximately USD 500 to USD 1,375)\n",
      "\n",
      "**Food and Drink:**\n",
      "\n",
      "* Average daily food budget: R$ 50 to R$ 100 (approximately USD 12.50 to USD 25) per meal\n",
      "* Snacks and drinks: R$ 20 to R$ 50 (approximately USD 5 to USD 12.50) per day\n",
      "* Total food and drink cost: R$ 1,400 to R$ 3,500 (approximately USD 350 to USD 875)\n",
      "\n",
      "**Activities and Entrance Fees:**\n",
      "\n",
      "* Guided tours: R$ 50 to R$ 100 (approximately USD 12.50 to USD 25) per person per tour\n",
      "* Entrance fees: R$ 20 to R$ 50 (approximately USD 5 to USD 12.50) per person per attraction\n",
      "* Total activity cost: R$ 500 to R$ 1,500 (approximately USD 125 to USD 375)\n",
      "\n",
      "**Other Expenses:**\n",
      "\n",
      "* Miscellaneous souvenirs and shopping: R$ 500 to R$ 1,000 (approximately USD 125 to USD 250)\n",
      "* Tips and gratuities: R$ 200 to R$ 500 (approximately USD 50 to USD 125)\n",
      "* Total other expenses: R$ 700 to R$ 1,500 (approximately USD 175 to USD 375)\n",
      "\n",
      "**Total Estimated Cost:**\n",
      "\n",
      "R$ 10,000 to R$ 15,000 (approximately USD 2,500 to USD 3,750) per person\n",
      "\n",
      "Note: These estimates are based on average prices and can vary depending on individual preferences and travel style. It's always a good idea to research and book accommodations, transportation, and activities in advance to get the best deals.\u001b[00m\n",
      "\n",
      "\n"
     ]
    }
   ],
   "source": [
    "result = viagem_crew.kickoff()"
   ]
  },
  {
   "cell_type": "code",
   "execution_count": 8,
   "id": "a9bc19c2",
   "metadata": {},
   "outputs": [
    {
     "name": "stdout",
     "output_type": "stream",
     "text": [
      "**Estimated Total Cost of the Trip:**\n",
      "\n",
      "Based on a 7-day trip to Brazil, I estimate the total cost to be around R$ 10,000 to R$ 15,000 (approximately USD 2,500 to USD 3,750) per person, depending on the travel style and preferences.\n",
      "\n",
      "**Transportation:**\n",
      "\n",
      "* Flights from the USA to Brazil: R$ 5,000 to R$ 8,000 (approximately USD 1,250 to USD 2,000)\n",
      "* In-country transportation (taxis, buses, etc.): R$ 500 to R$ 1,000 (approximately USD 125 to USD 250)\n",
      "* Total transportation cost: R$ 5,500 to R$ 9,000 (approximately USD 1,375 to USD 2,250)\n",
      "\n",
      "**Accommodation:**\n",
      "\n",
      "* 7-night stay in a mid-range hotel: R$ 2,000 to R$ 3,500 (approximately USD 500 to USD 875)\n",
      "* Alternative options: hostels, Airbnb, or budget hotels: R$ 1,000 to R$ 2,000 (approximately USD 250 to USD 500)\n",
      "* Total accommodation cost: R$ 2,000 to R$ 5,500 (approximately USD 500 to USD 1,375)\n",
      "\n",
      "**Food and Drink:**\n",
      "\n",
      "* Average daily food budget: R$ 50 to R$ 100 (approximately USD 12.50 to USD 25) per meal\n",
      "* Snacks and drinks: R$ 20 to R$ 50 (approximately USD 5 to USD 12.50) per day\n",
      "* Total food and drink cost: R$ 1,400 to R$ 3,500 (approximately USD 350 to USD 875)\n",
      "\n",
      "**Activities and Entrance Fees:**\n",
      "\n",
      "* Guided tours: R$ 50 to R$ 100 (approximately USD 12.50 to USD 25) per person per tour\n",
      "* Entrance fees: R$ 20 to R$ 50 (approximately USD 5 to USD 12.50) per person per attraction\n",
      "* Total activity cost: R$ 500 to R$ 1,500 (approximately USD 125 to USD 375)\n",
      "\n",
      "**Other Expenses:**\n",
      "\n",
      "* Miscellaneous souvenirs and shopping: R$ 500 to R$ 1,000 (approximately USD 125 to USD 250)\n",
      "* Tips and gratuities: R$ 200 to R$ 500 (approximately USD 50 to USD 125)\n",
      "* Total other expenses: R$ 700 to R$ 1,500 (approximately USD 175 to USD 375)\n",
      "\n",
      "**Total Estimated Cost:**\n",
      "\n",
      "R$ 10,000 to R$ 15,000 (approximately USD 2,500 to USD 3,750) per person\n",
      "\n",
      "Note: These estimates are based on average prices and can vary depending on individual preferences and travel style. It's always a good idea to research and book accommodations, transportation, and activities in advance to get the best deals.\n"
     ]
    }
   ],
   "source": [
    "print(result.raw)"
   ]
  }
 ],
 "metadata": {
  "kernelspec": {
   "display_name": "venv",
   "language": "python",
   "name": "python3"
  },
  "language_info": {
   "codemirror_mode": {
    "name": "ipython",
    "version": 3
   },
   "file_extension": ".py",
   "mimetype": "text/x-python",
   "name": "python",
   "nbconvert_exporter": "python",
   "pygments_lexer": "ipython3",
   "version": "3.12.10"
  }
 },
 "nbformat": 4,
 "nbformat_minor": 5
}
